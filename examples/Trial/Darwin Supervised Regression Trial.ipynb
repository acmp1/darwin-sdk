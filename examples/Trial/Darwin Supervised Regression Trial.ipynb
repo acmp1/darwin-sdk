{
 "cells": [
  {
   "cell_type": "markdown",
   "metadata": {},
   "source": [
    "<img src=\"https://cybersecurity-excellence-awards.com/wp-content/uploads/2017/06/366812.png\">"
   ]
  },
  {
   "cell_type": "markdown",
   "metadata": {},
   "source": [
    "<h1><center>Darwin Supervised Regression Model Building </center></h1>"
   ]
  },
  {
   "cell_type": "markdown",
   "metadata": {},
   "source": [
    "Prior to getting started, there are a few things you want to do:\n",
    "1. Set the dataset path.\n",
    "2. Enter your username and password to ensure that you're able to log in successfully\n",
    "\n",
    "Once you're up and running, here are a few things to be mindful of:\n",
    "1. For every run, look up the job status (i.e. requested, failed, running, completed) and wait for job to complete before proceeding. \n",
    "2. If you're not satisfied with your model and think that Darwin can do better by exploring a larger search space, use the resume function."
   ]
  },
  {
   "cell_type": "markdown",
   "metadata": {},
   "source": [
    "## Import libraries"
   ]
  },
  {
   "cell_type": "code",
   "execution_count": 1,
   "metadata": {
    "collapsed": true,
    "scrolled": true
   },
   "outputs": [],
   "source": [
    "# Import necessary libraries\n",
    "import warnings\n",
    "warnings.filterwarnings(\"ignore\", message=\"numpy.dtype size changed\")\n",
    "%matplotlib inline\n",
    "import matplotlib.pyplot as plt\n",
    "import pandas as pd\n",
    "from IPython.display import Image\n",
    "from time import sleep\n",
    "import os\n",
    "import numpy as np\n",
    "from sklearn.metrics import r2_score\n",
    "\n",
    "#from amb_sdk.sdk import DarwinSdk"
   ]
  },
  {
   "cell_type": "code",
   "execution_count": 2,
   "metadata": {},
   "outputs": [
    {
     "name": "stdout",
     "output_type": "stream",
     "text": [
      "../../\n",
      "/home/skenkare/CS363/Darwin/forkedDarwin/darwin-sdk/examples/Trial\n"
     ]
    }
   ],
   "source": [
    "import os\n",
    "os.environ[\"PYTHONPATH\"] = \"../../\"\n",
    "print(os.environ['PYTHONPATH'])\n",
    "print(os.getcwd())\n",
    "import sys\n",
    "sys.path.append('../../../')\n",
    "from amb_sdk.sdk import DarwinSdk"
   ]
  },
  {
   "cell_type": "markdown",
   "metadata": {},
   "source": [
    "## Setup"
   ]
  },
  {
   "cell_type": "markdown",
   "metadata": {},
   "source": [
    "**Login to Darwin**<br>\n",
    "Enter your registered username and password below to login to Darwin."
   ]
  },
  {
   "cell_type": "code",
   "execution_count": 6,
   "metadata": {},
   "outputs": [],
   "source": [
    "# Login\n",
    "ds = DarwinSdk()\n",
    "ds.set_url('https://amb-demo-api.sparkcognition.com/v1/')\n",
    "status, msg = ds.auth_login_user('skenkare@austin.rr.com', 'C9ZcJp32Ze')\n",
    "if not status:\n",
    "    print(msg)"
   ]
  },
  {
   "cell_type": "markdown",
   "metadata": {},
   "source": [
    "**Data Path** <br>\n",
    "In the cell below, set the path to your dataset, the default is Darwin's example datasets"
   ]
  },
  {
   "cell_type": "code",
   "execution_count": 7,
   "metadata": {
    "collapsed": true,
    "scrolled": true
   },
   "outputs": [],
   "source": [
    "path = '../../sets/'"
   ]
  },
  {
   "cell_type": "markdown",
   "metadata": {},
   "source": [
    "## Data Upload and Clean"
   ]
  },
  {
   "cell_type": "markdown",
   "metadata": {},
   "source": [
    "**Read dataset and view a file snippet**"
   ]
  },
  {
   "cell_type": "markdown",
   "metadata": {},
   "source": [
    "After setting up the dataset path, the next step is to upload the dataset from your local device to the server. <br> In the cell below, you need to specify the dataset_name if you want to use your own data."
   ]
  },
  {
   "cell_type": "code",
   "execution_count": 8,
   "metadata": {},
   "outputs": [
    {
     "data": {
      "text/html": [
       "<div>\n",
       "<style>\n",
       "    .dataframe thead tr:only-child th {\n",
       "        text-align: right;\n",
       "    }\n",
       "\n",
       "    .dataframe thead th {\n",
       "        text-align: left;\n",
       "    }\n",
       "\n",
       "    .dataframe tbody tr th {\n",
       "        vertical-align: top;\n",
       "    }\n",
       "</style>\n",
       "<table border=\"1\" class=\"dataframe\">\n",
       "  <thead>\n",
       "    <tr style=\"text-align: right;\">\n",
       "      <th></th>\n",
       "      <th>PID</th>\n",
       "      <th>ST_NUM</th>\n",
       "      <th>ST_NAME</th>\n",
       "      <th>ST_NAME_SUF</th>\n",
       "      <th>ZIPCODE</th>\n",
       "      <th>Assessed_Value</th>\n",
       "      <th>Lot_Area</th>\n",
       "      <th>Gross_Area</th>\n",
       "      <th>Living_Area</th>\n",
       "      <th>Owner_Occupied</th>\n",
       "      <th>...</th>\n",
       "      <th>Roof_Type</th>\n",
       "      <th>Exterior_Finish</th>\n",
       "      <th>Main_Bathroom_Style</th>\n",
       "      <th>Main_Kitchen_Style</th>\n",
       "      <th>Heating_type</th>\n",
       "      <th>Exterior_Condition</th>\n",
       "      <th>Overall_Condition</th>\n",
       "      <th>Interior_Condition</th>\n",
       "      <th>Interior_Finish</th>\n",
       "      <th>View</th>\n",
       "    </tr>\n",
       "  </thead>\n",
       "  <tbody>\n",
       "    <tr>\n",
       "      <th>0</th>\n",
       "      <td>2001658000_</td>\n",
       "      <td>43</td>\n",
       "      <td>STRATFORD</td>\n",
       "      <td>ST</td>\n",
       "      <td>02132_</td>\n",
       "      <td>963300</td>\n",
       "      <td>20897</td>\n",
       "      <td>7396</td>\n",
       "      <td>3887</td>\n",
       "      <td>1</td>\n",
       "      <td>...</td>\n",
       "      <td>Hip</td>\n",
       "      <td>Vinyl</td>\n",
       "      <td>Modern</td>\n",
       "      <td>Modern</td>\n",
       "      <td>Forced Air</td>\n",
       "      <td>Average</td>\n",
       "      <td>Average</td>\n",
       "      <td>Average</td>\n",
       "      <td>Normal</td>\n",
       "      <td>Average</td>\n",
       "    </tr>\n",
       "    <tr>\n",
       "      <th>1</th>\n",
       "      <td>2001659000_</td>\n",
       "      <td>47</td>\n",
       "      <td>STRATFORD</td>\n",
       "      <td>ST</td>\n",
       "      <td>02132_</td>\n",
       "      <td>915600</td>\n",
       "      <td>9856</td>\n",
       "      <td>6730</td>\n",
       "      <td>3566</td>\n",
       "      <td>1</td>\n",
       "      <td>...</td>\n",
       "      <td>Hip</td>\n",
       "      <td>Wood Shake</td>\n",
       "      <td>Modern</td>\n",
       "      <td>Modern</td>\n",
       "      <td>Hot Water</td>\n",
       "      <td>Average</td>\n",
       "      <td>Average</td>\n",
       "      <td>Good</td>\n",
       "      <td>Normal</td>\n",
       "      <td>Average</td>\n",
       "    </tr>\n",
       "    <tr>\n",
       "      <th>2</th>\n",
       "      <td>2001660000_</td>\n",
       "      <td>53</td>\n",
       "      <td>STRATFORD</td>\n",
       "      <td>ST</td>\n",
       "      <td>02132_</td>\n",
       "      <td>911400</td>\n",
       "      <td>8415</td>\n",
       "      <td>6442</td>\n",
       "      <td>2843</td>\n",
       "      <td>1</td>\n",
       "      <td>...</td>\n",
       "      <td>Gable</td>\n",
       "      <td>Wood Shake</td>\n",
       "      <td>Semi-Modern</td>\n",
       "      <td>Modern</td>\n",
       "      <td>Hot Water</td>\n",
       "      <td>Good</td>\n",
       "      <td>Good</td>\n",
       "      <td>Good</td>\n",
       "      <td>Normal</td>\n",
       "      <td>Average</td>\n",
       "    </tr>\n",
       "    <tr>\n",
       "      <th>3</th>\n",
       "      <td>2001661000_</td>\n",
       "      <td>57</td>\n",
       "      <td>STRATFORD</td>\n",
       "      <td>ST</td>\n",
       "      <td>02132_</td>\n",
       "      <td>862500</td>\n",
       "      <td>8333</td>\n",
       "      <td>6020</td>\n",
       "      <td>3558</td>\n",
       "      <td>1</td>\n",
       "      <td>...</td>\n",
       "      <td>Hip</td>\n",
       "      <td>Wood Shake</td>\n",
       "      <td>Semi-Modern</td>\n",
       "      <td>Modern</td>\n",
       "      <td>Hot Water</td>\n",
       "      <td>Average</td>\n",
       "      <td>Average</td>\n",
       "      <td>Good</td>\n",
       "      <td>Normal</td>\n",
       "      <td>Average</td>\n",
       "    </tr>\n",
       "    <tr>\n",
       "      <th>4</th>\n",
       "      <td>2001662000_</td>\n",
       "      <td>61</td>\n",
       "      <td>STRATFORD</td>\n",
       "      <td>ST</td>\n",
       "      <td>02132_</td>\n",
       "      <td>789300</td>\n",
       "      <td>8232</td>\n",
       "      <td>5574</td>\n",
       "      <td>2978</td>\n",
       "      <td>1</td>\n",
       "      <td>...</td>\n",
       "      <td>Gable</td>\n",
       "      <td>Wood Shake</td>\n",
       "      <td>Modern</td>\n",
       "      <td>Modern</td>\n",
       "      <td>Hot Water</td>\n",
       "      <td>Average</td>\n",
       "      <td>Average</td>\n",
       "      <td>Good</td>\n",
       "      <td>Normal</td>\n",
       "      <td>Average</td>\n",
       "    </tr>\n",
       "  </tbody>\n",
       "</table>\n",
       "<p>5 rows × 33 columns</p>\n",
       "</div>"
      ],
      "text/plain": [
       "           PID ST_NUM    ST_NAME ST_NAME_SUF ZIPCODE  Assessed_Value  \\\n",
       "0  2001658000_     43  STRATFORD          ST  02132_          963300   \n",
       "1  2001659000_     47  STRATFORD          ST  02132_          915600   \n",
       "2  2001660000_     53  STRATFORD          ST  02132_          911400   \n",
       "3  2001661000_     57  STRATFORD          ST  02132_          862500   \n",
       "4  2001662000_     61  STRATFORD          ST  02132_          789300   \n",
       "\n",
       "   Lot_Area  Gross_Area  Living_Area  Owner_Occupied   ...     Roof_Type  \\\n",
       "0     20897        7396         3887               1   ...           Hip   \n",
       "1      9856        6730         3566               1   ...           Hip   \n",
       "2      8415        6442         2843               1   ...         Gable   \n",
       "3      8333        6020         3558               1   ...           Hip   \n",
       "4      8232        5574         2978               1   ...         Gable   \n",
       "\n",
       "   Exterior_Finish  Main_Bathroom_Style  Main_Kitchen_Style  Heating_type  \\\n",
       "0            Vinyl               Modern              Modern    Forced Air   \n",
       "1       Wood Shake               Modern              Modern     Hot Water   \n",
       "2       Wood Shake          Semi-Modern              Modern     Hot Water   \n",
       "3       Wood Shake          Semi-Modern              Modern     Hot Water   \n",
       "4       Wood Shake               Modern              Modern     Hot Water   \n",
       "\n",
       "   Exterior_Condition  Overall_Condition  Interior_Condition  Interior_Finish  \\\n",
       "0             Average            Average             Average           Normal   \n",
       "1             Average            Average                Good           Normal   \n",
       "2                Good               Good                Good           Normal   \n",
       "3             Average            Average                Good           Normal   \n",
       "4             Average            Average                Good           Normal   \n",
       "\n",
       "      View  \n",
       "0  Average  \n",
       "1  Average  \n",
       "2  Average  \n",
       "3  Average  \n",
       "4  Average  \n",
       "\n",
       "[5 rows x 33 columns]"
      ]
     },
     "execution_count": 8,
     "metadata": {},
     "output_type": "execute_result"
    }
   ],
   "source": [
    "dataset_name = 'boston.csv'\n",
    "df = pd.read_csv(os.path.join(path, dataset_name))\n",
    "df.head()"
   ]
  },
  {
   "cell_type": "markdown",
   "metadata": {},
   "source": [
    "**Upload dataset to Darwin**"
   ]
  },
  {
   "cell_type": "code",
   "execution_count": 9,
   "metadata": {
    "collapsed": true,
    "scrolled": true
   },
   "outputs": [],
   "source": [
    "# Upload dataset\n",
    "status, dataset = ds.upload_dataset(os.path.join(path, dataset_name))\n",
    "if not status:\n",
    "    print(dataset)"
   ]
  },
  {
   "cell_type": "markdown",
   "metadata": {},
   "source": [
    "** clean dataset **"
   ]
  },
  {
   "cell_type": "code",
   "execution_count": 10,
   "metadata": {},
   "outputs": [
    {
     "name": "stdout",
     "output_type": "stream",
     "text": [
      "{'status': 'Requested', 'starttime': '2019-04-13T19:58:22.427757', 'endtime': None, 'percent_complete': 0, 'job_type': 'CleanDataTiny', 'loss': None, 'generations': None, 'dataset_names': ['boston.csv'], 'artifact_names': ['02006f50c4af46eeac34d3b51a6fc956'], 'model_name': None, 'job_error': None}\n",
      "{'status': 'Complete', 'starttime': '2019-04-13T19:58:22.427757', 'endtime': '2019-04-13T19:58:37.195478', 'percent_complete': 100, 'job_type': 'CleanDataTiny', 'loss': None, 'generations': None, 'dataset_names': ['boston.csv'], 'artifact_names': ['02006f50c4af46eeac34d3b51a6fc956'], 'model_name': None, 'job_error': ''}\n"
     ]
    }
   ],
   "source": [
    "# clean dataset\n",
    "target = \"Assessed_Value\"\n",
    "status, job_id = ds.clean_data(dataset_name, target = target)\n",
    "\n",
    "if status:\n",
    "    ds.wait_for_job(job_id['job_name'])\n",
    "else:\n",
    "    print(job_id)"
   ]
  },
  {
   "cell_type": "markdown",
   "metadata": {},
   "source": [
    "## Create and Train Model "
   ]
  },
  {
   "cell_type": "markdown",
   "metadata": {},
   "source": [
    "We will now build a model that will learn the class labels in the target column.<br> In the default boston dataset, the target column is \"Assessed_Value\". <br> You will have to specify your own target name for your custom dataset. <br> You can also increase max_train_time for longer training.\n"
   ]
  },
  {
   "cell_type": "code",
   "execution_count": 16,
   "metadata": {
    "scrolled": true
   },
   "outputs": [
    {
     "name": "stdout",
     "output_type": "stream",
     "text": [
      "403: FORBIDDEN - {\"message\": \"Your token is out of date\"}\n",
      "\n"
     ]
    }
   ],
   "source": [
    "model = target + \"_model0\"\n",
    "status, job_id = ds.create_model(dataset_names = dataset_name, \\\n",
    "                                 model_name =  model, \\\n",
    "                                 max_train_time = '00:02')\n",
    "if status:\n",
    "    ds.wait_for_job(job_id['job_name'])\n",
    "else:\n",
    "    print(job_id)"
   ]
  },
  {
   "cell_type": "markdown",
   "metadata": {},
   "source": [
    "## Extra Training (Optional)\n",
    "Run the following cell for extra training, no need to specify parameters"
   ]
  },
  {
   "cell_type": "code",
   "execution_count": null,
   "metadata": {},
   "outputs": [],
   "source": [
    "# Train some more\n",
    "status, job_id = ds.resume_training_model(dataset_names = dataset_name,\n",
    "                                          model_name = model,\n",
    "                                          max_train_time = '00:05')\n",
    "                                          \n",
    "if status:\n",
    "    ds.wait_for_job(job_id['job_name'])\n",
    "else:\n",
    "    print(job_id)"
   ]
  },
  {
   "cell_type": "markdown",
   "metadata": {},
   "source": [
    "## Analyze Model\n",
    "Analyze model provides feature importance ranked by the model. <br> It indicates a general view of which features pose a bigger impact on the model"
   ]
  },
  {
   "cell_type": "code",
   "execution_count": 13,
   "metadata": {
    "scrolled": true
   },
   "outputs": [
    {
     "name": "stdout",
     "output_type": "stream",
     "text": [
      "{'status': 'Running', 'starttime': '2019-04-13T20:02:36.091855', 'endtime': None, 'percent_complete': 0, 'job_type': 'AnalyzeModel', 'loss': 0.04829813167452812, 'generations': 6, 'dataset_names': None, 'artifact_names': ['c57d6794a5214286bb954f638ecec615'], 'model_name': 'Assessed_Value_model0', 'job_error': ''}\n",
      "{'status': 'Complete', 'starttime': '2019-04-13T20:02:36.091855', 'endtime': '2019-04-13T20:02:41.332896', 'percent_complete': 100, 'job_type': 'AnalyzeModel', 'loss': 0.04829813167452812, 'generations': 6, 'dataset_names': None, 'artifact_names': ['c57d6794a5214286bb954f638ecec615'], 'model_name': 'Assessed_Value_model0', 'job_error': ''}\n"
     ]
    }
   ],
   "source": [
    "# Retrieve feature importance of built model\n",
    "status, artifact = ds.analyze_model(model)\n",
    "sleep(1)\n",
    "if status:\n",
    "    ds.wait_for_job(artifact['job_name'])\n",
    "else:\n",
    "    print(artifact)\n",
    "status, feature_importance = ds.download_artifact(artifact['artifact_name'])"
   ]
  },
  {
   "cell_type": "markdown",
   "metadata": {},
   "source": [
    "Show the 10 most important features of the model."
   ]
  },
  {
   "cell_type": "code",
   "execution_count": 14,
   "metadata": {},
   "outputs": [
    {
     "data": {
      "text/plain": [
       "Interior_Finish = Normal         0.427644\n",
       "Living_Area                      0.205453\n",
       "Number_of_Floors                 0.157710\n",
       "Gross_Area                       0.049753\n",
       "Exterior_Finish = Brick/Stone    0.030753\n",
       "Lot_Area                         0.027207\n",
       "ZIPCODE = 02130_                 0.011637\n",
       "ZIPCODE = 02129_                 0.007876\n",
       "ST_NAME_SUF = ST                 0.006695\n",
       "Has_AC = 1                       0.004818\n",
       "dtype: float64"
      ]
     },
     "execution_count": 14,
     "metadata": {},
     "output_type": "execute_result"
    }
   ],
   "source": [
    "feature_importance[:10]"
   ]
  },
  {
   "cell_type": "markdown",
   "metadata": {},
   "source": [
    "## Predictions\n",
    "**Perform model prediction on the the training dataset.**"
   ]
  },
  {
   "cell_type": "code",
   "execution_count": 15,
   "metadata": {
    "scrolled": true
   },
   "outputs": [
    {
     "name": "stdout",
     "output_type": "stream",
     "text": [
      "{'status': 'Running', 'starttime': '2019-04-13T20:05:13.46979', 'endtime': None, 'percent_complete': 0, 'job_type': 'RunModel', 'loss': 0.04829813167452812, 'generations': 6, 'dataset_names': ['boston.csv'], 'artifact_names': ['d35b9ad9f6a64370b285d6c0d7e56b64'], 'model_name': 'Assessed_Value_model0', 'job_error': ''}\n",
      "{'status': 'Complete', 'starttime': '2019-04-13T20:05:13.46979', 'endtime': '2019-04-13T20:05:22.785682', 'percent_complete': 100, 'job_type': 'RunModel', 'loss': 0.04829813167452812, 'generations': 6, 'dataset_names': ['boston.csv'], 'artifact_names': ['d35b9ad9f6a64370b285d6c0d7e56b64'], 'model_name': 'Assessed_Value_model0', 'job_error': ''}\n"
     ]
    },
    {
     "data": {
      "text/plain": [
       "(True, 'Job completed')"
      ]
     },
     "execution_count": 15,
     "metadata": {},
     "output_type": "execute_result"
    }
   ],
   "source": [
    "status, artifact = ds.run_model(dataset_name, model)\n",
    "sleep(1)\n",
    "ds.wait_for_job(artifact['job_name'])"
   ]
  },
  {
   "cell_type": "markdown",
   "metadata": {},
   "source": [
    "Download predictions from Darwin's server."
   ]
  },
  {
   "cell_type": "code",
   "execution_count": null,
   "metadata": {
    "collapsed": true,
    "scrolled": true
   },
   "outputs": [],
   "source": [
    "status, prediction = ds.download_artifact(artifact['artifact_name'])\n",
    "prediction.head()"
   ]
  },
  {
   "cell_type": "markdown",
   "metadata": {},
   "source": [
    "Create plots comparing predictions with actual target"
   ]
  },
  {
   "cell_type": "code",
   "execution_count": null,
   "metadata": {
    "collapsed": true,
    "scrolled": true
   },
   "outputs": [],
   "source": [
    "#Plot predictions vs actual\n",
    "plt.plot(df[target], prediction[target], '.')\n",
    "plt.plot([0,2.3e7],[0,2.3e7],'--k')\n",
    "print('R^2 : ', r2_score(df[target], prediction[target]))"
   ]
  },
  {
   "cell_type": "markdown",
   "metadata": {},
   "source": [
    "## Find out which machine learning model did Darwin use:"
   ]
  },
  {
   "cell_type": "code",
   "execution_count": null,
   "metadata": {
    "collapsed": true
   },
   "outputs": [],
   "source": [
    "status, model_type = ds.lookup_model_name(model)\n",
    "print(model_type['description']['best_genome'])"
   ]
  }
 ],
 "metadata": {
  "anaconda-cloud": {},
  "kernelspec": {
   "display_name": "Python 3",
   "language": "python",
   "name": "python3"
  },
  "language_info": {
   "codemirror_mode": {
    "name": "ipython",
    "version": 3
   },
   "file_extension": ".py",
   "mimetype": "text/x-python",
   "name": "python",
   "nbconvert_exporter": "python",
   "pygments_lexer": "ipython3",
   "version": "3.6.1"
  }
 },
 "nbformat": 4,
 "nbformat_minor": 2
}
