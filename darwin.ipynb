{
 "cells": [
  {
   "cell_type": "markdown",
   "metadata": {},
   "source": [
    "## Setup"
   ]
  },
  {
   "cell_type": "markdown",
   "metadata": {},
   "source": [
    "**Import Statements**"
   ]
  },
  {
   "cell_type": "code",
   "execution_count": 36,
   "metadata": {
    "collapsed": true
   },
   "outputs": [],
   "source": [
    "import os\n",
    "import matplotlib.pyplot as plt\n",
    "import pandas as pd\n",
    "from time import sleep\n",
    "from sklearn.metrics import r2_score\n",
    "from amb_sdk.sdk import DarwinSdk"
   ]
  },
  {
   "cell_type": "markdown",
   "metadata": {},
   "source": [
    "**Connection to Darwin**"
   ]
  },
  {
   "cell_type": "code",
   "execution_count": 3,
   "metadata": {
    "collapsed": true
   },
   "outputs": [],
   "source": [
    "# Login\n",
    "ds = DarwinSdk()\n",
    "ds.set_url('https://amb-demo-api.sparkcognition.com/v1/')\n",
    "status, msg = ds.auth_login_user('skenkare@austin.rr.com', 'C9ZcJp32Ze')\n",
    "\n",
    "if not status:\n",
    "    print(msg)\n"
   ]
  },
  {
   "cell_type": "markdown",
   "metadata": {},
   "source": [
    "**Setup Path**"
   ]
  },
  {
   "cell_type": "code",
   "execution_count": 4,
   "metadata": {
    "collapsed": true
   },
   "outputs": [],
   "source": [
    "path = './sets/'"
   ]
  },
  {
   "cell_type": "markdown",
   "metadata": {},
   "source": [
    "## Upload and Read Data"
   ]
  },
  {
   "cell_type": "markdown",
   "metadata": {},
   "source": [
    "**Read Data**"
   ]
  },
  {
   "cell_type": "code",
   "execution_count": 5,
   "metadata": {},
   "outputs": [
    {
     "name": "stderr",
     "output_type": "stream",
     "text": [
      "/home/skenkare/anaconda3/lib/python3.6/site-packages/IPython/core/interactiveshell.py:2717: DtypeWarning: Columns (36) have mixed types. Specify dtype option on import or set low_memory=False.\n",
      "  interactivity=interactivity, compiler=compiler, result=result)\n"
     ]
    },
    {
     "data": {
      "text/html": [
       "<div>\n",
       "<style>\n",
       "    .dataframe thead tr:only-child th {\n",
       "        text-align: right;\n",
       "    }\n",
       "\n",
       "    .dataframe thead th {\n",
       "        text-align: left;\n",
       "    }\n",
       "\n",
       "    .dataframe tbody tr th {\n",
       "        vertical-align: top;\n",
       "    }\n",
       "</style>\n",
       "<table border=\"1\" class=\"dataframe\">\n",
       "  <thead>\n",
       "    <tr style=\"text-align: right;\">\n",
       "      <th></th>\n",
       "      <th>id</th>\n",
       "      <th>period</th>\n",
       "      <th>source_code</th>\n",
       "      <th>source_name</th>\n",
       "      <th>source_region</th>\n",
       "      <th>source_income</th>\n",
       "      <th>source_lending</th>\n",
       "      <th>source_G8G20</th>\n",
       "      <th>destination_code</th>\n",
       "      <th>destination_name</th>\n",
       "      <th>...</th>\n",
       "      <th>cc2 fx margin</th>\n",
       "      <th>cc2 total cost %</th>\n",
       "      <th>inter lcu bank fx</th>\n",
       "      <th>transparent</th>\n",
       "      <th>Standard Note</th>\n",
       "      <th>note2</th>\n",
       "      <th>receiving network coverage</th>\n",
       "      <th>pickup method</th>\n",
       "      <th>date</th>\n",
       "      <th>corridor</th>\n",
       "    </tr>\n",
       "  </thead>\n",
       "  <tbody>\n",
       "    <tr>\n",
       "      <th>0</th>\n",
       "      <td>620160001</td>\n",
       "      <td>2016_2Q</td>\n",
       "      <td>AGO</td>\n",
       "      <td>Angola</td>\n",
       "      <td>Sub-Saharan Africa</td>\n",
       "      <td>Lower middle income</td>\n",
       "      <td>IBRD</td>\n",
       "      <td>..</td>\n",
       "      <td>NAM</td>\n",
       "      <td>Namibia</td>\n",
       "      <td>...</td>\n",
       "      <td>7.49</td>\n",
       "      <td>14.36</td>\n",
       "      <td>0.09</td>\n",
       "      <td>yes</td>\n",
       "      <td>NaN</td>\n",
       "      <td>NaN</td>\n",
       "      <td>High</td>\n",
       "      <td>Agent</td>\n",
       "      <td>11/May/2016</td>\n",
       "      <td>AGONAM</td>\n",
       "    </tr>\n",
       "    <tr>\n",
       "      <th>1</th>\n",
       "      <td>620160002</td>\n",
       "      <td>2016_2Q</td>\n",
       "      <td>AGO</td>\n",
       "      <td>Angola</td>\n",
       "      <td>Sub-Saharan Africa</td>\n",
       "      <td>Lower middle income</td>\n",
       "      <td>IBRD</td>\n",
       "      <td>..</td>\n",
       "      <td>NAM</td>\n",
       "      <td>Namibia</td>\n",
       "      <td>...</td>\n",
       "      <td>4.19</td>\n",
       "      <td>11.78</td>\n",
       "      <td>0.09</td>\n",
       "      <td>yes</td>\n",
       "      <td>NaN</td>\n",
       "      <td>NaN</td>\n",
       "      <td>High</td>\n",
       "      <td>Agent</td>\n",
       "      <td>11/May/2016</td>\n",
       "      <td>AGONAM</td>\n",
       "    </tr>\n",
       "    <tr>\n",
       "      <th>2</th>\n",
       "      <td>620160003</td>\n",
       "      <td>2016_2Q</td>\n",
       "      <td>AGO</td>\n",
       "      <td>Angola</td>\n",
       "      <td>Sub-Saharan Africa</td>\n",
       "      <td>Lower middle income</td>\n",
       "      <td>IBRD</td>\n",
       "      <td>..</td>\n",
       "      <td>NAM</td>\n",
       "      <td>Namibia</td>\n",
       "      <td>...</td>\n",
       "      <td>0.00</td>\n",
       "      <td>10.93</td>\n",
       "      <td>1.00</td>\n",
       "      <td>no</td>\n",
       "      <td>This RSP is not transparent: the exchange rate...</td>\n",
       "      <td>NaN</td>\n",
       "      <td>Low</td>\n",
       "      <td>NaN</td>\n",
       "      <td>11/May/2016</td>\n",
       "      <td>AGONAM</td>\n",
       "    </tr>\n",
       "    <tr>\n",
       "      <th>3</th>\n",
       "      <td>620160004</td>\n",
       "      <td>2016_2Q</td>\n",
       "      <td>ARE</td>\n",
       "      <td>United Arab Emirates</td>\n",
       "      <td>Middle East &amp; North Africa</td>\n",
       "      <td>High income</td>\n",
       "      <td>..</td>\n",
       "      <td>..</td>\n",
       "      <td>BGD</td>\n",
       "      <td>Bangladesh</td>\n",
       "      <td>...</td>\n",
       "      <td>0.08</td>\n",
       "      <td>1.17</td>\n",
       "      <td>21.34</td>\n",
       "      <td>yes</td>\n",
       "      <td>NaN</td>\n",
       "      <td>NaN</td>\n",
       "      <td>High</td>\n",
       "      <td>Agent</td>\n",
       "      <td>09/May/2016</td>\n",
       "      <td>AREBGD</td>\n",
       "    </tr>\n",
       "    <tr>\n",
       "      <th>4</th>\n",
       "      <td>620160005</td>\n",
       "      <td>2016_2Q</td>\n",
       "      <td>ARE</td>\n",
       "      <td>United Arab Emirates</td>\n",
       "      <td>Middle East &amp; North Africa</td>\n",
       "      <td>High income</td>\n",
       "      <td>..</td>\n",
       "      <td>..</td>\n",
       "      <td>BGD</td>\n",
       "      <td>Bangladesh</td>\n",
       "      <td>...</td>\n",
       "      <td>0.13</td>\n",
       "      <td>0.95</td>\n",
       "      <td>21.34</td>\n",
       "      <td>yes</td>\n",
       "      <td>NaN</td>\n",
       "      <td>NaN</td>\n",
       "      <td>High</td>\n",
       "      <td>Agent</td>\n",
       "      <td>09/May/2016</td>\n",
       "      <td>AREBGD</td>\n",
       "    </tr>\n",
       "  </tbody>\n",
       "</table>\n",
       "<p>5 rows × 41 columns</p>\n",
       "</div>"
      ],
      "text/plain": [
       "          id   period source_code           source_name  \\\n",
       "0  620160001  2016_2Q         AGO                Angola   \n",
       "1  620160002  2016_2Q         AGO                Angola   \n",
       "2  620160003  2016_2Q         AGO                Angola   \n",
       "3  620160004  2016_2Q         ARE  United Arab Emirates   \n",
       "4  620160005  2016_2Q         ARE  United Arab Emirates   \n",
       "\n",
       "                source_region        source_income source_lending  \\\n",
       "0          Sub-Saharan Africa  Lower middle income           IBRD   \n",
       "1          Sub-Saharan Africa  Lower middle income           IBRD   \n",
       "2          Sub-Saharan Africa  Lower middle income           IBRD   \n",
       "3  Middle East & North Africa          High income             ..   \n",
       "4  Middle East & North Africa          High income             ..   \n",
       "\n",
       "  source_G8G20 destination_code destination_name    ...    cc2 fx margin  \\\n",
       "0           ..              NAM          Namibia    ...             7.49   \n",
       "1           ..              NAM          Namibia    ...             4.19   \n",
       "2           ..              NAM          Namibia    ...             0.00   \n",
       "3           ..              BGD       Bangladesh    ...             0.08   \n",
       "4           ..              BGD       Bangladesh    ...             0.13   \n",
       "\n",
       "  cc2 total cost % inter lcu bank fx transparent  \\\n",
       "0            14.36              0.09         yes   \n",
       "1            11.78              0.09         yes   \n",
       "2            10.93              1.00          no   \n",
       "3             1.17             21.34         yes   \n",
       "4             0.95             21.34         yes   \n",
       "\n",
       "                                       Standard Note note2  \\\n",
       "0                                                NaN   NaN   \n",
       "1                                                NaN   NaN   \n",
       "2  This RSP is not transparent: the exchange rate...   NaN   \n",
       "3                                                NaN   NaN   \n",
       "4                                                NaN   NaN   \n",
       "\n",
       "  receiving network coverage pickup method         date  corridor  \n",
       "0                       High         Agent  11/May/2016    AGONAM  \n",
       "1                       High         Agent  11/May/2016    AGONAM  \n",
       "2                        Low           NaN  11/May/2016    AGONAM  \n",
       "3                       High         Agent  09/May/2016    AREBGD  \n",
       "4                       High         Agent  09/May/2016    AREBGD  \n",
       "\n",
       "[5 rows x 41 columns]"
      ]
     },
     "execution_count": 5,
     "metadata": {},
     "output_type": "execute_result"
    }
   ],
   "source": [
    "dataset_name = 'remittances_data.csv'\n",
    "df = pd.read_csv(os.path.join(path, dataset_name))\n",
    "df.head()"
   ]
  },
  {
   "cell_type": "markdown",
   "metadata": {},
   "source": [
    "**Upload to Darwin**"
   ]
  },
  {
   "cell_type": "code",
   "execution_count": 6,
   "metadata": {
    "collapsed": true
   },
   "outputs": [],
   "source": [
    "# Upload dataset\n",
    "status, message = ds.delete_dataset(dataset_name)\n",
    "status, dataset = ds.upload_dataset(os.path.join(path, dataset_name))\n",
    "if not status:\n",
    "    print(dataset)"
   ]
  },
  {
   "cell_type": "markdown",
   "metadata": {},
   "source": [
    "## Clean Data"
   ]
  },
  {
   "cell_type": "code",
   "execution_count": 7,
   "metadata": {},
   "outputs": [
    {
     "name": "stdout",
     "output_type": "stream",
     "text": [
      "{'status': 'Requested', 'starttime': '2019-04-13T20:57:45.594678', 'endtime': None, 'percent_complete': 0, 'job_type': 'CleanDataTiny', 'loss': None, 'generations': None, 'dataset_names': ['remittances_data.csv'], 'artifact_names': ['b851776bdf1b43868af172ef8b38d088'], 'model_name': None, 'job_error': None}\n",
      "{'status': 'Running', 'starttime': '2019-04-13T20:57:45.594678', 'endtime': None, 'percent_complete': 0, 'job_type': 'CleanDataTiny', 'loss': None, 'generations': None, 'dataset_names': ['remittances_data.csv'], 'artifact_names': ['b851776bdf1b43868af172ef8b38d088'], 'model_name': None, 'job_error': ''}\n",
      "{'status': 'Running', 'starttime': '2019-04-13T20:57:45.594678', 'endtime': None, 'percent_complete': 0, 'job_type': 'CleanDataTiny', 'loss': None, 'generations': None, 'dataset_names': ['remittances_data.csv'], 'artifact_names': ['b851776bdf1b43868af172ef8b38d088'], 'model_name': None, 'job_error': ''}\n",
      "{'status': 'Complete', 'starttime': '2019-04-13T20:57:45.594678', 'endtime': '2019-04-13T20:58:25.903933', 'percent_complete': 100, 'job_type': 'CleanDataTiny', 'loss': None, 'generations': None, 'dataset_names': ['remittances_data.csv'], 'artifact_names': ['b851776bdf1b43868af172ef8b38d088'], 'model_name': None, 'job_error': ''}\n"
     ]
    }
   ],
   "source": [
    "# clean dataset\n",
    "target = \"speed actual\"\n",
    "status, job_id = ds.clean_data(dataset_name, target=target)\n",
    "\n",
    "if status:\n",
    "    ds.wait_for_job(job_id['job_name'])\n",
    "else:\n",
    "    print(job_id)\n",
    "    \n"
   ]
  },
  {
   "cell_type": "markdown",
   "metadata": {},
   "source": [
    "## Create and Train Model"
   ]
  },
  {
   "cell_type": "code",
   "execution_count": 8,
   "metadata": {},
   "outputs": [
    {
     "name": "stdout",
     "output_type": "stream",
     "text": [
      "{'status': 'Requested', 'starttime': '2019-04-13T20:58:32.561002', 'endtime': None, 'percent_complete': 0, 'job_type': 'TrainModel', 'loss': None, 'generations': 0, 'dataset_names': ['remittances_data.csv'], 'artifact_names': None, 'model_name': 'speed actual_model0', 'job_error': None}\n",
      "{'status': 'Running', 'starttime': '2019-04-13T20:58:32.561002', 'endtime': None, 'percent_complete': 0, 'job_type': 'TrainModel', 'loss': None, 'generations': 0, 'dataset_names': ['remittances_data.csv'], 'artifact_names': None, 'model_name': 'speed actual_model0', 'job_error': ''}\n",
      "{'status': 'Running', 'starttime': '2019-04-13T20:58:32.561002', 'endtime': None, 'percent_complete': 14, 'job_type': 'TrainModel', 'loss': 1.6310617923736572, 'generations': 0, 'dataset_names': ['remittances_data.csv'], 'artifact_names': None, 'model_name': 'speed actual_model0', 'job_error': ''}\n",
      "{'status': 'Running', 'starttime': '2019-04-13T20:58:32.561002', 'endtime': None, 'percent_complete': 14, 'job_type': 'TrainModel', 'loss': 1.6310617923736572, 'generations': 0, 'dataset_names': ['remittances_data.csv'], 'artifact_names': None, 'model_name': 'speed actual_model0', 'job_error': ''}\n",
      "{'status': 'Running', 'starttime': '2019-04-13T20:58:32.561002', 'endtime': None, 'percent_complete': 14, 'job_type': 'TrainModel', 'loss': 1.6310617923736572, 'generations': 0, 'dataset_names': ['remittances_data.csv'], 'artifact_names': None, 'model_name': 'speed actual_model0', 'job_error': ''}\n",
      "{'status': 'Running', 'starttime': '2019-04-13T20:58:32.561002', 'endtime': None, 'percent_complete': 14, 'job_type': 'TrainModel', 'loss': 1.6310617923736572, 'generations': 0, 'dataset_names': ['remittances_data.csv'], 'artifact_names': None, 'model_name': 'speed actual_model0', 'job_error': ''}\n",
      "{'status': 'Running', 'starttime': '2019-04-13T20:58:32.561002', 'endtime': None, 'percent_complete': 14, 'job_type': 'TrainModel', 'loss': 1.6310617923736572, 'generations': 0, 'dataset_names': ['remittances_data.csv'], 'artifact_names': None, 'model_name': 'speed actual_model0', 'job_error': ''}\n",
      "{'status': 'Running', 'starttime': '2019-04-13T20:58:32.561002', 'endtime': None, 'percent_complete': 50, 'job_type': 'TrainModel', 'loss': 1.4003839492797852, 'generations': 1, 'dataset_names': ['remittances_data.csv'], 'artifact_names': None, 'model_name': 'speed actual_model0', 'job_error': ''}\n",
      "{'status': 'Running', 'starttime': '2019-04-13T20:58:32.561002', 'endtime': None, 'percent_complete': 50, 'job_type': 'TrainModel', 'loss': 1.4003839492797852, 'generations': 1, 'dataset_names': ['remittances_data.csv'], 'artifact_names': None, 'model_name': 'speed actual_model0', 'job_error': ''}\n",
      "{'status': 'Running', 'starttime': '2019-04-13T20:58:32.561002', 'endtime': None, 'percent_complete': 50, 'job_type': 'TrainModel', 'loss': 1.4003839492797852, 'generations': 1, 'dataset_names': ['remittances_data.csv'], 'artifact_names': None, 'model_name': 'speed actual_model0', 'job_error': ''}\n",
      "{'status': 'Running', 'starttime': '2019-04-13T20:58:32.561002', 'endtime': None, 'percent_complete': 50, 'job_type': 'TrainModel', 'loss': 1.4003839492797852, 'generations': 1, 'dataset_names': ['remittances_data.csv'], 'artifact_names': None, 'model_name': 'speed actual_model0', 'job_error': ''}\n",
      "{'status': 'Complete', 'starttime': '2019-04-13T20:58:32.561002', 'endtime': '2019-04-13T21:01:15.040855', 'percent_complete': 100, 'job_type': 'TrainModel', 'loss': 1.4003839492797852, 'generations': 1, 'dataset_names': ['remittances_data.csv'], 'artifact_names': None, 'model_name': 'speed actual_model0', 'job_error': ''}\n"
     ]
    }
   ],
   "source": [
    "model = target + \"_model0\"\n",
    "ds.delete_model(model)\n",
    "status, job_id = ds.create_model(dataset_names = dataset_name, \\\n",
    "                                 model_name =  model, \\\n",
    "                                 max_train_time = '00:02')\n",
    "if status:\n",
    "    ds.wait_for_job(job_id['job_name'])\n",
    "else:\n",
    "    print(job_id)"
   ]
  },
  {
   "cell_type": "markdown",
   "metadata": {},
   "source": [
    "## Analyze Data"
   ]
  },
  {
   "cell_type": "code",
   "execution_count": 9,
   "metadata": {},
   "outputs": [
    {
     "name": "stdout",
     "output_type": "stream",
     "text": [
      "{'status': 'Running', 'starttime': '2019-04-13T21:01:20.210544', 'endtime': None, 'percent_complete': 0, 'job_type': 'AnalyzeModel', 'loss': 1.4003839492797852, 'generations': 1, 'dataset_names': None, 'artifact_names': ['ef2b0d6e0f214e73aac63ac380df9398'], 'model_name': 'speed actual_model0', 'job_error': ''}\n",
      "{'status': 'Complete', 'starttime': '2019-04-13T21:01:20.210544', 'endtime': '2019-04-13T21:01:25.667405', 'percent_complete': 100, 'job_type': 'AnalyzeModel', 'loss': 1.4003839492797852, 'generations': 1, 'dataset_names': None, 'artifact_names': ['ef2b0d6e0f214e73aac63ac380df9398'], 'model_name': 'speed actual_model0', 'job_error': ''}\n"
     ]
    }
   ],
   "source": [
    "# Retrieve feature importance of built model\n",
    "status, artifact = ds.analyze_model(model)\n",
    "sleep(1)\n",
    "if status:\n",
    "    ds.wait_for_job(artifact['job_name'])\n",
    "else:\n",
    "    print(artifact)\n",
    "status, feature_importance = ds.download_artifact(artifact['artifact_name'])"
   ]
  },
  {
   "cell_type": "code",
   "execution_count": 10,
   "metadata": {},
   "outputs": [
    {
     "data": {
      "text/plain": [
       "cc1 total cost %                       0.054656\n",
       "cc1 lcu fee                            0.054509\n",
       "cc2 lcu fee                            0.051000\n",
       "firm_type = Money Transfer Operator    0.048669\n",
       "cc2 total cost %                       0.048330\n",
       "payment instrument = Cash              0.044145\n",
       "cc2 lcu fx rate                        0.034814\n",
       "cc1 lcu fx rate                        0.032936\n",
       "cc2 fx margin                          0.032445\n",
       "inter lcu bank fx                      0.032008\n",
       "dtype: float64"
      ]
     },
     "execution_count": 10,
     "metadata": {},
     "output_type": "execute_result"
    }
   ],
   "source": [
    "feature_importance[:10]"
   ]
  },
  {
   "cell_type": "markdown",
   "metadata": {},
   "source": [
    "**Model Prediction**"
   ]
  },
  {
   "cell_type": "code",
   "execution_count": 11,
   "metadata": {},
   "outputs": [
    {
     "name": "stdout",
     "output_type": "stream",
     "text": [
      "{'status': 'Running', 'starttime': '2019-04-13T21:01:38.687815', 'endtime': None, 'percent_complete': 0, 'job_type': 'RunModel', 'loss': 1.4003839492797852, 'generations': 1, 'dataset_names': ['remittances_data.csv'], 'artifact_names': ['fb4d9a4e8dbf4761b4f25f610f32b756'], 'model_name': 'speed actual_model0', 'job_error': ''}\n",
      "{'status': 'Complete', 'starttime': '2019-04-13T21:01:38.687815', 'endtime': '2019-04-13T21:01:43.951005', 'percent_complete': 100, 'job_type': 'RunModel', 'loss': 1.4003839492797852, 'generations': 1, 'dataset_names': ['remittances_data.csv'], 'artifact_names': ['fb4d9a4e8dbf4761b4f25f610f32b756'], 'model_name': 'speed actual_model0', 'job_error': ''}\n"
     ]
    },
    {
     "data": {
      "text/plain": [
       "(True, 'Job completed')"
      ]
     },
     "execution_count": 11,
     "metadata": {},
     "output_type": "execute_result"
    }
   ],
   "source": [
    "status, artifact = ds.run_model(dataset_name, model)\n",
    "sleep(1)\n",
    "ds.wait_for_job(artifact['job_name'])"
   ]
  },
  {
   "cell_type": "markdown",
   "metadata": {},
   "source": [
    "**Get Predictions from Darwin**"
   ]
  },
  {
   "cell_type": "code",
   "execution_count": 38,
   "metadata": {},
   "outputs": [
    {
     "data": {
      "text/html": [
       "<div>\n",
       "<style>\n",
       "    .dataframe thead tr:only-child th {\n",
       "        text-align: right;\n",
       "    }\n",
       "\n",
       "    .dataframe thead th {\n",
       "        text-align: left;\n",
       "    }\n",
       "\n",
       "    .dataframe tbody tr th {\n",
       "        vertical-align: top;\n",
       "    }\n",
       "</style>\n",
       "<table border=\"1\" class=\"dataframe\">\n",
       "  <thead>\n",
       "    <tr style=\"text-align: right;\">\n",
       "      <th></th>\n",
       "      <th>prob_2 days</th>\n",
       "      <th>prob_3-5 days</th>\n",
       "      <th>prob_6 days or more</th>\n",
       "      <th>prob_Less than one hour</th>\n",
       "      <th>prob_Next day</th>\n",
       "      <th>prob_Same day</th>\n",
       "      <th>speed actual</th>\n",
       "    </tr>\n",
       "  </thead>\n",
       "  <tbody>\n",
       "    <tr>\n",
       "      <th>0</th>\n",
       "      <td>0.000000e+00</td>\n",
       "      <td>0.000000</td>\n",
       "      <td>0.000000</td>\n",
       "      <td>0.999939</td>\n",
       "      <td>0.000005</td>\n",
       "      <td>0.000056</td>\n",
       "      <td>Less than one hour</td>\n",
       "    </tr>\n",
       "    <tr>\n",
       "      <th>1</th>\n",
       "      <td>1.000000e-10</td>\n",
       "      <td>0.000000</td>\n",
       "      <td>0.000000</td>\n",
       "      <td>0.009689</td>\n",
       "      <td>0.000469</td>\n",
       "      <td>0.989842</td>\n",
       "      <td>Same day</td>\n",
       "    </tr>\n",
       "    <tr>\n",
       "      <th>2</th>\n",
       "      <td>1.758300e-06</td>\n",
       "      <td>0.000207</td>\n",
       "      <td>0.000002</td>\n",
       "      <td>0.000000</td>\n",
       "      <td>0.999409</td>\n",
       "      <td>0.000380</td>\n",
       "      <td>Next day</td>\n",
       "    </tr>\n",
       "    <tr>\n",
       "      <th>3</th>\n",
       "      <td>1.200061e-04</td>\n",
       "      <td>0.003784</td>\n",
       "      <td>0.000003</td>\n",
       "      <td>0.995268</td>\n",
       "      <td>0.000275</td>\n",
       "      <td>0.000549</td>\n",
       "      <td>Less than one hour</td>\n",
       "    </tr>\n",
       "    <tr>\n",
       "      <th>4</th>\n",
       "      <td>1.462233e-04</td>\n",
       "      <td>0.004932</td>\n",
       "      <td>0.000004</td>\n",
       "      <td>0.994016</td>\n",
       "      <td>0.000311</td>\n",
       "      <td>0.000591</td>\n",
       "      <td>Less than one hour</td>\n",
       "    </tr>\n",
       "  </tbody>\n",
       "</table>\n",
       "</div>"
      ],
      "text/plain": [
       "    prob_2 days  prob_3-5 days  prob_6 days or more  prob_Less than one hour  \\\n",
       "0  0.000000e+00       0.000000             0.000000                 0.999939   \n",
       "1  1.000000e-10       0.000000             0.000000                 0.009689   \n",
       "2  1.758300e-06       0.000207             0.000002                 0.000000   \n",
       "3  1.200061e-04       0.003784             0.000003                 0.995268   \n",
       "4  1.462233e-04       0.004932             0.000004                 0.994016   \n",
       "\n",
       "   prob_Next day  prob_Same day        speed actual  \n",
       "0       0.000005       0.000056  Less than one hour  \n",
       "1       0.000469       0.989842            Same day  \n",
       "2       0.999409       0.000380            Next day  \n",
       "3       0.000275       0.000549  Less than one hour  \n",
       "4       0.000311       0.000591  Less than one hour  "
      ]
     },
     "execution_count": 38,
     "metadata": {},
     "output_type": "execute_result"
    }
   ],
   "source": [
    "status, prediction = ds.download_artifact(artifact['artifact_name'])\n",
    "prediction.head()"
   ]
  },
  {
   "cell_type": "code",
   "execution_count": 40,
   "metadata": {},
   "outputs": [
    {
     "name": "stdout",
     "output_type": "stream",
     "text": [
      "45748\n"
     ]
    },
    {
     "data": {
      "image/png": "[encoded data removed]",
      "text/plain": [
       "<matplotlib.figure.Figure at 0x7f88e74e0c50>"
      ]
     },
     "metadata": {},
     "output_type": "display_data"
    },
    {
     "name": "stdout",
     "output_type": "stream",
     "text": [
      "R^2 :  0.7317262424376229\n"
     ]
    }
   ],
   "source": [
    "#Plot predictions vs actual\n",
    "print(len(prediction[target]))\n",
    "#print(prediction[target][0])\n",
    "prediction[target] = prediction[target].replace('Less than one hour', 0.05)\n",
    "df[target] = df[target].replace('Less than one hour', 0.05)\n",
    "prediction[target] = prediction[target].replace('Same day', 1)\n",
    "df[target] = df[target].replace('Same day', 1)\n",
    "prediction[target] = prediction[target].replace('Next day', 2)\n",
    "df[target] = df[target].replace('Next day', 2)\n",
    "prediction[target] = prediction[target].replace('2 days', 3)\n",
    "df[target] = df[target].replace('2 days', 3)\n",
    "prediction[target] = prediction[target].replace('3-5 days', 4)\n",
    "df[target] = df[target].replace('3-5 days', 4)\n",
    "prediction[target] = prediction[target].replace('6 days or more', 7)\n",
    "df[target] = df[target].replace('6 days or more', 7)\n",
    "#print(prediction[target][0])\n",
    "#prediction[target].replace(\"Less than one hour\", 0.05)\n",
    "#prediction[target].replace(\"Less than one hour\", 0.05)\n",
    "#for i in range(0, 4574):\n",
    "#    if prediction[target][i] == \"Less than one hour\":\n",
    "#        prediction[target][i] = 0.05\n",
    "plt.plot(df[target], prediction[target], '.')\n",
    "plt.plot([0,2.3e7],[0,2.3e7],'--k')\n",
    "plt.show()\n",
    "print('R^2 : ', r2_score(df[target], prediction[target]))"
   ]
  },
  {
   "cell_type": "code",
   "execution_count": null,
   "metadata": {
    "collapsed": true
   },
   "outputs": [],
   "source": []
  }
 ],
 "metadata": {
  "kernelspec": {
   "display_name": "Python 3",
   "language": "python",
   "name": "python3"
  },
  "language_info": {
   "codemirror_mode": {
    "name": "ipython",
    "version": 3
   },
   "file_extension": ".py",
   "mimetype": "text/x-python",
   "name": "python",
   "nbconvert_exporter": "python",
   "pygments_lexer": "ipython3",
   "version": "3.6.1"
  }
 },
 "nbformat": 4,
 "nbformat_minor": 2
}
